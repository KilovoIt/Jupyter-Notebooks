{
  "nbformat": 4,
  "nbformat_minor": 0,
  "metadata": {
    "colab": {
      "name": "Roulette.ipynb",
      "provenance": [],
      "authorship_tag": "ABX9TyP/uczMEux5AHHucBKpYqPn",
      "include_colab_link": true
    },
    "kernelspec": {
      "name": "python3",
      "display_name": "Python 3"
    },
    "language_info": {
      "name": "python"
    }
  },
  "cells": [
    {
      "cell_type": "markdown",
      "metadata": {
        "id": "view-in-github",
        "colab_type": "text"
      },
      "source": [
        "<a href=\"https://colab.research.google.com/github/KilovoIt/Jupyter-Notebooks/blob/main/Roulette.ipynb\" target=\"_parent\"><img src=\"https://colab.research.google.com/assets/colab-badge.svg\" alt=\"Open In Colab\"/></a>"
      ]
    },
    {
      "cell_type": "code",
      "metadata": {
        "id": "STXHdW0YxJlS"
      },
      "source": [
        "import pandas as pd\n",
        "\n",
        "#Creating Roulette Set\n",
        "array = ['0', '00', '1', '2', '3', '4', '5', '6', '7', '8', '9', '10', '11', '12', '13', '14', '15', '16', '17', '18', '19', '20', '21', '22', '23', '24', '25', '26', '27', '28', '29', '30', '31', '32', '33', '34', '35', '36']\n",
        "df =pd.DataFrame(array, columns=['Value'])\n",
        "\n",
        "#Roulette not only goes by numbers, it goes by colors as well. Let's add some colors:\n",
        "colors = ['Red', 'Black']\n",
        "df['Color'] = pd.DataFrame(colors * 19)\n",
        "\n",
        "#Everything looks fine, but sectors '0' and '00' should be green. Let's fix that:\n",
        "df.loc[0:1, 'Color'] = ['Green', 'Green']"
      ],
      "execution_count": 1,
      "outputs": []
    },
    {
      "cell_type": "code",
      "metadata": {
        "colab": {
          "base_uri": "https://localhost:8080/",
          "height": 80
        },
        "id": "IwFTn5DZ7DIm",
        "outputId": "662f22a4-30f7-464c-974a-ae2d92a6dc0f"
      },
      "source": [
        "#Importing Random function and simulating the Roulette spin:\n",
        "import random\n",
        "\n",
        "df.iloc[[random.randint(0, 37)]]"
      ],
      "execution_count": 2,
      "outputs": [
        {
          "output_type": "execute_result",
          "data": {
            "text/html": [
              "<div>\n",
              "<style scoped>\n",
              "    .dataframe tbody tr th:only-of-type {\n",
              "        vertical-align: middle;\n",
              "    }\n",
              "\n",
              "    .dataframe tbody tr th {\n",
              "        vertical-align: top;\n",
              "    }\n",
              "\n",
              "    .dataframe thead th {\n",
              "        text-align: right;\n",
              "    }\n",
              "</style>\n",
              "<table border=\"1\" class=\"dataframe\">\n",
              "  <thead>\n",
              "    <tr style=\"text-align: right;\">\n",
              "      <th></th>\n",
              "      <th>Value</th>\n",
              "      <th>Color</th>\n",
              "    </tr>\n",
              "  </thead>\n",
              "  <tbody>\n",
              "    <tr>\n",
              "      <th>30</th>\n",
              "      <td>29</td>\n",
              "      <td>Red</td>\n",
              "    </tr>\n",
              "  </tbody>\n",
              "</table>\n",
              "</div>"
            ],
            "text/plain": [
              "   Value Color\n",
              "30    29   Red"
            ]
          },
          "metadata": {
            "tags": []
          },
          "execution_count": 2
        }
      ]
    },
    {
      "cell_type": "code",
      "metadata": {
        "colab": {
          "base_uri": "https://localhost:8080/",
          "height": 519
        },
        "id": "gNIyAhzM80eU",
        "outputId": "e4ee5e72-b430-44c8-9291-5eca147ee676"
      },
      "source": [
        "#Creating loop that will take N random numbers, simulating N Roulette spins\n",
        "recordings=[]\n",
        "for i in range(1000):\n",
        "    recordings.append(random.randint(0, 37))\n",
        "\n",
        "#Their indexes recorded into an array and used to retrieve the full information about the sector.\n",
        "attempts = pd.DataFrame(columns=df.columns)                      \n",
        "for k in recordings:\n",
        "    attempts = attempts.append(df.loc[[k]])\n",
        "\n",
        "result = pd.DataFrame(columns=attempts.Color.unique())\n",
        "result.Black = [attempts[attempts['Color'] == 'Black'].value_counts().sum()]/attempts.value_counts().sum()*100\n",
        "result.Red = [attempts[attempts['Color'] == 'Red'].value_counts().sum()]/attempts.value_counts().sum()*100\n",
        "result.Green = [attempts[attempts['Color'] == 'Green'].value_counts().sum()]/attempts.value_counts().sum()*100\n",
        "\n",
        "\n",
        "#Plotting\n",
        "import seaborn as sns\n",
        "import numpy as np\n",
        "import matplotlib.pyplot as plt\n",
        "\n",
        "\n",
        "ax = sns.barplot(x=result.columns, y=result.iloc[0], palette=['red', 'black', 'green'], saturation=0.9, alpha=0.85)\n",
        "ax.set(xlabel='Color', ylabel='Frequency, %')\n",
        "ax.grid('on')\n",
        "ax.xaxis.grid(None)\n",
        "\n",
        "ax1 = result.plot(kind='bar', stacked=True, color=['red', 'black', 'green'], width=0.15)\n",
        "ax1.set(xlabel='', ylabel='%')\n",
        "ax1.set_xticklabels([])\n",
        "ax1.yaxis.grid(None)\n",
        "plt.show()\n"
      ],
      "execution_count": 12,
      "outputs": [
        {
          "output_type": "display_data",
          "data": {
            "image/png": "[encoded data removed]",
            "text/plain": [
              "<Figure size 432x288 with 1 Axes>"
            ]
          },
          "metadata": {
            "tags": [],
            "needs_background": "light"
          }
        },
        {
          "output_type": "display_data",
          "data": {
            "image/png": "[encoded data removed]",
            "text/plain": [
              "<Figure size 432x288 with 1 Axes>"
            ]
          },
          "metadata": {
            "tags": [],
            "needs_background": "light"
          }
        }
      ]
    },
    {
      "cell_type": "code",
      "metadata": {
        "colab": {
          "base_uri": "https://localhost:8080/",
          "height": 357
        },
        "id": "MJg2_y-F2gwY",
        "outputId": "0182ba57-af8a-47c1-cc58-b3b37179fb1a"
      },
      "source": [
        "results = pd.DataFrame(columns=['Red', 'Black', 'Green'])\n",
        "\n",
        "\n",
        "for p in range(10):    \n",
        "    recordings=[]\n",
        "    for i in range(1000):\n",
        "        recordings.append(random.randint(0, 37))\n",
        "\n",
        "    #Their indexes recorded into an array and used to retrieve the full information about the sector.\n",
        "    attempts = pd.DataFrame(columns=df.columns)                      \n",
        "    for k in recordings:\n",
        "        attempts = attempts.append(df.loc[[k]])\n",
        "\n",
        "    result = pd.DataFrame(columns=attempts.Color.unique())\n",
        "    result.Black = [attempts[attempts['Color'] == 'Black'].value_counts().sum()]/attempts.value_counts().sum()*100\n",
        "    result.Red = [attempts[attempts['Color'] == 'Red'].value_counts().sum()]/attempts.value_counts().sum()*100\n",
        "    result.Green = [attempts[attempts['Color'] == 'Green'].value_counts().sum()]/attempts.value_counts().sum()*100\n",
        "    results = results.append(result)\n",
        "\n",
        "results = results.reset_index()\n",
        "results.drop(['index'], axis=1, inplace=True)\n",
        "results\n"
      ],
      "execution_count": 247,
      "outputs": [
        {
          "output_type": "execute_result",
          "data": {
            "text/html": [
              "<div>\n",
              "<style scoped>\n",
              "    .dataframe tbody tr th:only-of-type {\n",
              "        vertical-align: middle;\n",
              "    }\n",
              "\n",
              "    .dataframe tbody tr th {\n",
              "        vertical-align: top;\n",
              "    }\n",
              "\n",
              "    .dataframe thead th {\n",
              "        text-align: right;\n",
              "    }\n",
              "</style>\n",
              "<table border=\"1\" class=\"dataframe\">\n",
              "  <thead>\n",
              "    <tr style=\"text-align: right;\">\n",
              "      <th></th>\n",
              "      <th>Red</th>\n",
              "      <th>Black</th>\n",
              "      <th>Green</th>\n",
              "    </tr>\n",
              "  </thead>\n",
              "  <tbody>\n",
              "    <tr>\n",
              "      <th>0</th>\n",
              "      <td>48.1</td>\n",
              "      <td>46.5</td>\n",
              "      <td>5.4</td>\n",
              "    </tr>\n",
              "    <tr>\n",
              "      <th>1</th>\n",
              "      <td>47.1</td>\n",
              "      <td>47.5</td>\n",
              "      <td>5.4</td>\n",
              "    </tr>\n",
              "    <tr>\n",
              "      <th>2</th>\n",
              "      <td>47.5</td>\n",
              "      <td>47.8</td>\n",
              "      <td>4.7</td>\n",
              "    </tr>\n",
              "    <tr>\n",
              "      <th>3</th>\n",
              "      <td>47.7</td>\n",
              "      <td>46.0</td>\n",
              "      <td>6.3</td>\n",
              "    </tr>\n",
              "    <tr>\n",
              "      <th>4</th>\n",
              "      <td>47.4</td>\n",
              "      <td>47.0</td>\n",
              "      <td>5.6</td>\n",
              "    </tr>\n",
              "    <tr>\n",
              "      <th>5</th>\n",
              "      <td>51.2</td>\n",
              "      <td>44.0</td>\n",
              "      <td>4.8</td>\n",
              "    </tr>\n",
              "    <tr>\n",
              "      <th>6</th>\n",
              "      <td>45.7</td>\n",
              "      <td>49.9</td>\n",
              "      <td>4.4</td>\n",
              "    </tr>\n",
              "    <tr>\n",
              "      <th>7</th>\n",
              "      <td>49.7</td>\n",
              "      <td>45.3</td>\n",
              "      <td>5.0</td>\n",
              "    </tr>\n",
              "    <tr>\n",
              "      <th>8</th>\n",
              "      <td>48.3</td>\n",
              "      <td>46.9</td>\n",
              "      <td>4.8</td>\n",
              "    </tr>\n",
              "    <tr>\n",
              "      <th>9</th>\n",
              "      <td>48.4</td>\n",
              "      <td>46.5</td>\n",
              "      <td>5.1</td>\n",
              "    </tr>\n",
              "  </tbody>\n",
              "</table>\n",
              "</div>"
            ],
            "text/plain": [
              "    Red  Black  Green\n",
              "0  48.1   46.5    5.4\n",
              "1  47.1   47.5    5.4\n",
              "2  47.5   47.8    4.7\n",
              "3  47.7   46.0    6.3\n",
              "4  47.4   47.0    5.6\n",
              "5  51.2   44.0    4.8\n",
              "6  45.7   49.9    4.4\n",
              "7  49.7   45.3    5.0\n",
              "8  48.3   46.9    4.8\n",
              "9  48.4   46.5    5.1"
            ]
          },
          "metadata": {
            "tags": []
          },
          "execution_count": 247
        }
      ]
    },
    {
      "cell_type": "code",
      "metadata": {
        "colab": {
          "base_uri": "https://localhost:8080/",
          "height": 285
        },
        "id": "T9BvuiSw32j8",
        "outputId": "6814b2d0-5d05-4ea2-a77f-e2a2c365a47b"
      },
      "source": [
        "sns.histplot(y=['49', '50', '51'], x=[1, 15, 1])"
      ],
      "execution_count": 252,
      "outputs": [
        {
          "output_type": "execute_result",
          "data": {
            "text/plain": [
              "<matplotlib.axes._subplots.AxesSubplot at 0x7f683e07f110>"
            ]
          },
          "metadata": {
            "tags": []
          },
          "execution_count": 252
        },
        {
          "output_type": "display_data",
          "data": {
            "image/png": "[encoded data removed]",
            "text/plain": [
              "<Figure size 432x288 with 1 Axes>"
            ]
          },
          "metadata": {
            "tags": []
          }
        }
      ]
    }
  ]
}